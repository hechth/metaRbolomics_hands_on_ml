{
 "cells": [
  {
   "cell_type": "code",
   "execution_count": null,
   "metadata": {},
   "outputs": [],
   "source": [
    "import keras\n",
    "import numpy\n",
    "from matchms.importing import load_from_msp\n",
    "from matchms.filtering import reduce_to_number_of_peaks\n",
    "import tensorflow as tf\n",
    "import tensorflow_datasets as tfds\n"
   ]
  },
  {
   "cell_type": "code",
   "execution_count": null,
   "metadata": {},
   "outputs": [],
   "source": [
    "spectra = list(load_from_msp(\"GCMS DB-Public-KovatsRI-VS3.msp\"))\n"
   ]
  },
  {
   "cell_type": "code",
   "execution_count": null,
   "metadata": {},
   "outputs": [],
   "source": [
    "smiles = [x.get(\"smiles\") for x in spectra]\n",
    "exact_mass = [x.get(\"exactmass\") for x in spectra]\n",
    "ri = [x.get(\"retentionindex\") for x in spectra]\n",
    "\n",
    "reduced_spectra = [\n"
   ]
  },
  {
   "cell_type": "code",
   "execution_count": null,
   "metadata": {},
   "outputs": [],
   "source": [
    "def safe_convert_float(x):\n",
    "    try:\n",
    "        val = float(x)\n",
    "    except:\n",
    "        val = 0\n",
    "    return val"
   ]
  },
  {
   "cell_type": "code",
   "execution_count": null,
   "metadata": {},
   "outputs": [],
   "source": [
    "exact_mass = [safe_convert_float(x) for x in exact_mass]\n",
    "ri = [safe_convert_float(x) for x in ri]"
   ]
  },
  {
   "cell_type": "code",
   "execution_count": null,
   "metadata": {},
   "outputs": [],
   "source": [
    "exact_mass_idx = list(numpy.nonzero(exact_mass)[0])\n",
    "ri_idx = list(numpy.nonzero(ri)[0])\n",
    "indices = numpy.intersect1d(exact_mass_idx, ri_idx)"
   ]
  },
  {
   "cell_type": "code",
   "execution_count": null,
   "metadata": {},
   "outputs": [],
   "source": [
    "x = numpy.take(exact_mass, indices)\n",
    "y = numpy.take(ri, indices)"
   ]
  },
  {
   "cell_type": "code",
   "execution_count": null,
   "metadata": {},
   "outputs": [],
   "source": [
    "def normalize(data):\n",
    "    demeaned = data - numpy.mean(data)\n",
    "    quotient = numpy.max(numpy.abs(demeaned))\n",
    "    normalized = demeaned / quotient\n",
    "    return normalized"
   ]
  },
  {
   "cell_type": "code",
   "execution_count": null,
   "metadata": {},
   "outputs": [],
   "source": [
    "x_normalized = normalize(x)\n",
    "y_normalized = normalize(y)"
   ]
  },
  {
   "cell_type": "code",
   "execution_count": null,
   "metadata": {},
   "outputs": [],
   "source": [
    "def make_dataset(data, batch):\n",
    "    ds = tf.data.Dataset.from_tensor_slices(data).shuffle(2048).batch(batch)\n",
    "    return ds"
   ]
  },
  {
   "cell_type": "code",
   "execution_count": null,
   "metadata": {},
   "outputs": [],
   "source": [
    "batch_size = 64\n",
    "x_train = make_dataset(x_normalized, batch_size)\n",
    "y_train = make_dataset(y_normalized, batch_size)\n",
    "ds = tf.data.Dataset.zip((x_train, y_train))"
   ]
  },
  {
   "cell_type": "code",
   "execution_count": null,
   "metadata": {},
   "outputs": [],
   "source": [
    "inputs = tf.keras.Input(shape=(1,))\n",
    "act0 = tf.keras.activations.relu(inputs, threshold = -1)\n",
    "dense0 = tf.keras.layers.Dense(1000, kernel_initializer='normal')(act0)\n",
    "dense1 = tf.keras.layers.Dense(2000, activation=tf.nn.relu, kernel_initializer='normal')(dense0)\n",
    "dense2 = tf.keras.layers.Dense(2000, activation=tf.nn.relu, kernel_initializer='normal')(dense1)\n",
    "dense3 = tf.keras.layers.Dense(1000, activation=tf.nn.relu, kernel_initializer='normal')(dense2)\n",
    "dense4 = tf.keras.layers.Dense(1000, activation=tf.nn.relu, kernel_initializer='normal')(dense3)\n",
    "outputs = tf.keras.layers.Dense(1, activation=tf.nn.tanh, kernel_initializer='normal')(dense4)\n",
    "model = tf.keras.Model(inputs=inputs, outputs=outputs)"
   ]
  },
  {
   "cell_type": "code",
   "execution_count": null,
   "metadata": {},
   "outputs": [],
   "source": [
    "model.compile(\n",
    "    loss=tf.keras.losses.MeanAbsoluteError(),\n",
    "    optimizer=tf.keras.optimizers.Adam(learning_rate=0.001),\n",
    "    metrics=[\"accuracy\"],\n",
    ")"
   ]
  },
  {
   "cell_type": "code",
   "execution_count": null,
   "metadata": {},
   "outputs": [],
   "source": [
    "history = model.fit(ds, epochs=5)"
   ]
  },
  {
   "cell_type": "code",
   "execution_count": null,
   "metadata": {},
   "outputs": [],
   "source": [
    "history = model.fit(\n",
    "    x=x_normalized,\n",
    "    y=y_normalized,\n",
    "    batch_size=64,\n",
    "    epochs=10,\n",
    "    verbose=\"auto\",\n",
    "    validation_split=0.2,\n",
    "    validation_data=None,\n",
    "    shuffle=True,\n",
    "    class_weight=None,\n",
    "    sample_weight=None,\n",
    "    initial_epoch=0,\n",
    "    steps_per_epoch=None,\n",
    "    validation_freq=1,\n",
    "    max_queue_size=10,\n",
    "    workers=8,\n",
    "    use_multiprocessing=True,\n",
    ")"
   ]
  },
  {
   "cell_type": "code",
   "execution_count": null,
   "metadata": {},
   "outputs": [],
   "source": [
    "print(history)"
   ]
  }
 ],
 "metadata": {
  "interpreter": {
   "hash": "bb32eb37c700efd86e9a16f0465f845fd15d20be3759abe57ac08488f5926580"
  },
  "kernelspec": {
   "display_name": "Python 3.7.12 64-bit ('metarbolomics': conda)",
   "language": "python",
   "name": "python3"
  },
  "language_info": {
   "codemirror_mode": {
    "name": "ipython",
    "version": 3
   },
   "file_extension": ".py",
   "mimetype": "text/x-python",
   "name": "python",
   "nbconvert_exporter": "python",
   "pygments_lexer": "ipython3",
   "version": "3.7.12"
  },
  "orig_nbformat": 4
 },
 "nbformat": 4,
 "nbformat_minor": 2
}
